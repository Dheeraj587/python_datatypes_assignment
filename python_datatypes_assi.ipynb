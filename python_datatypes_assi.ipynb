{
  "nbformat": 4,
  "nbformat_minor": 0,
  "metadata": {
    "colab": {
      "provenance": []
    },
    "kernelspec": {
      "name": "python3",
      "display_name": "Python 3"
    },
    "language_info": {
      "name": "python"
    }
  },
  "cells": [
    {
      "cell_type": "code",
      "execution_count": null,
      "metadata": {
        "id": "KdZ390Q5aZlh"
      },
      "outputs": [],
      "source": []
    },
    {
      "cell_type": "markdown",
      "source": [
        "            **Data Types and Structures Questions**"
      ],
      "metadata": {
        "id": "Em_8_GpLahFb"
      }
    },
    {
      "cell_type": "markdown",
      "source": [
        "Q1. What are data structures, and why are they important?\n",
        "\n",
        "ans: A data structure is a way of organizing and storing data so that it can be used effectively.  For example, if you need to store a list of names, you might use a list or an array. If you want to quickly find a phone number by name, a dictionary or hash table is better. Data structures are important because they help programs run faster and make solving problems easier. Without the right data structure, a program can become slow, messy, and hard to manage. Just like using the right tool makes a job easier, using the right data structure makes a program work better.\n",
        "\n"
      ],
      "metadata": {
        "id": "GOIRHQCZa39W"
      }
    },
    {
      "cell_type": "markdown",
      "source": [
        "q2.Explain the difference between mutable and immutable data types with example?\n",
        "\n",
        "ans: Mutable data types can be modified, meaning their contents can be altered without changing their identity in memory. For example, lists are mutable—you can add, remove, or change elements in a list. If you have a list like [1, 2, 3], you can update the first element to 100, and the list becomes [100, 2, 3]. On the other hand, immutable data types cannot be changed once they are created. This means that if you want to modify their value, a new object must be created instead. For instance, strings are immutable. If you have a string \"hello\" and want to change the first letter to uppercase, you can't directly modify it."
      ],
      "metadata": {
        "id": "0UiyE1WRbqSW"
      }
    },
    {
      "cell_type": "markdown",
      "source": [
        "q3. What are the main differences between lists and tuples in Python?\n",
        "\n",
        "ans: List and tuples both are the data structure used to store collection of items but the difference between them is the list is mutable means we can change their content after created , on other hand tuples are immutable which means we cannot change the content after created."
      ],
      "metadata": {
        "id": "iH73W618cH0F"
      }
    },
    {
      "cell_type": "markdown",
      "source": [
        "q4.  Describe how dictionaries store data.\n",
        "\n",
        "ans: a dictionary is a data structure that stores data in the form of key-value pairs. Each item in a dictionary has a unique key that is used to access its value. This allows for fast and efficient data lookup. Dictionaries are defined using curly braces {}, with keys and values separated by a colon :. For example, {\"name\": \"Dheeraj\", \"age\": 22} is a dictionary where \"name\" and \"age\" are keys, and \"Dheeraj\" and 22 are their corresponding values."
      ],
      "metadata": {
        "id": "PGlzZ1AddE1c"
      }
    },
    {
      "cell_type": "markdown",
      "source": [
        "q5. Why might you use a set instead of a list in Python?\n",
        "\n",
        "ans:You might use a set instead of a list in Python when you need to store unique items and don't care about their order. A set automatically removes duplicates, which means if you try to add the same value more than once, it will only be stored once."
      ],
      "metadata": {
        "id": "mDjejBm_daeV"
      }
    },
    {
      "cell_type": "markdown",
      "source": [
        "q6. What is a string in Python, and how is it different from a list?\n",
        "\n",
        "ans: String is data structure in python used to store characters and the strings are immutable which means once string created their character cannot change , where list is mutable and store collection of data."
      ],
      "metadata": {
        "id": "PuERtbK2dpW7"
      }
    },
    {
      "cell_type": "markdown",
      "source": [
        "q7.  How do tuples ensure data integrity in Python?\n",
        "\n",
        "ans: Tuples ensure data integrity in Python by being immutable, which means their content cannot be changed after creation. Once you define a tuple, you cannot add, remove, or modify its elements. This property makes tuples ideal for storing fixed collections of data that should not be accidentally altered in a program."
      ],
      "metadata": {
        "id": "9-YW5h18ekZE"
      }
    },
    {
      "cell_type": "markdown",
      "source": [
        "q8. What is a hash table, and how does it relate to dictionaries in Python?\n",
        "\n",
        "ans: A hash table is a data structure that stores data using a key-value format and allows for very fast data access. It works by applying a hash function to a key, which converts the key into an index where the value is stored in memory. This means you can retrieve a value instantly by using its key, without searching through the entire collection."
      ],
      "metadata": {
        "id": "-dP5mQ6IezwA"
      }
    },
    {
      "cell_type": "markdown",
      "source": [
        "q9. Can lists contain different data types in Python?\n",
        "\n",
        "ans: Yes, list contain different data types. list can store integers, float value, characters, boolean value.\n",
        "example: [1, 2.2, \"dheeraj\", TRUE]"
      ],
      "metadata": {
        "id": "nZCnudrNfMCC"
      }
    },
    {
      "cell_type": "markdown",
      "source": [
        "q10. Explain why strings are immutable in Python?\n",
        "\n",
        "ans: Strings are immutable in Python, which means once a string is created, its characters cannot be changed. For example, if you create a string \"hello\", you cannot change just the first letter to make it \"Hello\" directly—you would have to create a new string instead. This immutability is designed for efficiency and safety."
      ],
      "metadata": {
        "id": "L5Ersoi_f5Fc"
      }
    },
    {
      "cell_type": "markdown",
      "source": [
        "q11. What advantages do dictionaries offer over lists for certain tasks?\n",
        "\n",
        "ans: Dictionaries offer several advantages over lists for certain tasks, especially when it comes to looking up data quickly. While lists store values by position (index), dictionaries store data as key-value pairs, allowing you to access values directly using a unique key. This makes dictionaries much faster for searching, retrieving, or updating data"
      ],
      "metadata": {
        "id": "sS3II4M7gcJS"
      }
    },
    {
      "cell_type": "markdown",
      "source": [
        "q12.  Describe a scenario where using a tuple would be preferable over a list?\n",
        "\n",
        "ans: a tuple is often preferable over a list when storing data that should remain unchanged throughout the program. For example, consider storing database connection settings like (\"localhost\", 5432, \"admin\")—the host, port, and username. These values are fixed for a session and should not be accidentally modified, making a tuple the safer choice."
      ],
      "metadata": {
        "id": "scYJANE-g5_G"
      }
    },
    {
      "cell_type": "markdown",
      "source": [
        "q13. How do sets handle duplicate values in Python?\n",
        "\n",
        "ans: sets automatically remove duplicate values. A set is an unordered collection of unique elements, which means that even if you try to add the same item more than once, it will only appear once in the set. For example, if you create a set like set([1, 2, 2, 3, 3, 3]), the result will be {1, 2, 3}. This feature makes sets especially useful when you need to eliminate duplicates from a list or check for unique items."
      ],
      "metadata": {
        "id": "SzrvN1tRh4Nc"
      }
    },
    {
      "cell_type": "markdown",
      "source": [
        "q14.How does the “in” keyword work differently for lists and dictionaries?\n",
        "\n",
        "ans: the in keyword is used to check if a value exists, but it behaves differently for lists and dictionaries. When used with a list, in checks whether a specific value is present in the list. For example, \"apple\" in [\"apple\", \"banana\", \"cherry\"] will return True. However, when used with a dictionary, in checks whether a specific key exists in the dictionary—not the value. For instance, in {\"name\": \"Dheeraj\", \"age\": 22}, the expression \"name\" in dict returns True, but \"Dheeraj\" in dict returns False because \"Dheeraj\" is a value, not a key."
      ],
      "metadata": {
        "id": "Ya_BkR24iRXo"
      }
    },
    {
      "cell_type": "markdown",
      "source": [
        "q15. Can you modify the elements of a tuple? Explain why or why not.\n",
        "\n",
        "ans: No, you cannot modify the elements of a tuple in Python because tuples are immutable. This means that once a tuple is created, its content—whether numbers, strings, or other data types—cannot be changed, added to, or removed. For example, if you create a tuple like (1, 2, 3), you cannot replace the 2 with another value directly."
      ],
      "metadata": {
        "id": "ja3-ksQLjvck"
      }
    },
    {
      "cell_type": "markdown",
      "source": [
        "q16. What is a nested dictionary, and give an example of its use case?\n",
        "\n",
        "ans: A nested dictionary in Python is a dictionary inside another dictionary. It allows you to store and organize complex, structured data using multiple levels of key-value pairs. Each key in the outer dictionary can hold another dictionary as its value. This is useful when you want to group related information together under a common category.\n"
      ],
      "metadata": {
        "id": "_qtnS0GmkFQA"
      }
    },
    {
      "cell_type": "markdown",
      "source": [
        "q17.  Describe the time complexity of accessing elements in a dictionary?\n",
        "\n",
        "ans: accessing elements in a dictionary is generally very fast, with an average time complexity of O(1), also known as constant time. This means that no matter how large the dictionary is, retrieving a value using a key (like my_dict[\"name\"]) typically takes the same amount of time. This speed is possible because Python dictionaries use a hash table under the hood, which quickly calculates the location of the value based on the key."
      ],
      "metadata": {
        "id": "l7pHE9mokhrU"
      }
    },
    {
      "cell_type": "markdown",
      "source": [
        "q18. In what situations are lists preferred over dictionaries?\n",
        "\n",
        "ans: Lists are preferred over dictionaries when you need to store ordered sequences of items where the position (index) matters, and when you don’t need to label each item with a key. For example, when processing a series of numbers, names, or tasks in a specific order—like [10, 20, 30] or [\"task1\", \"task2\", \"task3\"]—a list is more suitable."
      ],
      "metadata": {
        "id": "dVAX94EKk0Es"
      }
    },
    {
      "cell_type": "markdown",
      "source": [
        "q19. Why are dictionaries considered unordered, and how does that affect data retrieval?\n",
        "\n",
        "ans: Dictionaries in Python were originally considered unordered because they did not maintain the order in which key-value pairs were added. This meant that if you added items to a dictionary, you couldn't rely on them staying in the same sequence when you accessed or displayed the data. dictionaries are designed for fast data retrieval based on keys, not for storing items in a specific sequence."
      ],
      "metadata": {
        "id": "W6Emn_JWlDyZ"
      }
    },
    {
      "cell_type": "markdown",
      "source": [
        "q20. Explain the difference between a list and a dictionary in terms of data retrieval.\n",
        "\n",
        "ans: In a list, data is retrieved using a numerical index. For example, my_list[0] gets the first item in the list. This works well when the order of elements matters, but it means you must know the exact position of the data. In contrast, a dictionary retrieves data using a unique key. For example, my_dict[\"name\"] returns the value associated with the key \"name\", regardless of its position. This makes dictionaries much faster and more efficient for looking up values when you know the key."
      ],
      "metadata": {
        "id": "kjzXbWIEmh6_"
      }
    },
    {
      "cell_type": "markdown",
      "source": [
        "                    ** PRACTICAL QUESTION **"
      ],
      "metadata": {
        "id": "gT0wXGrym2Y3"
      }
    },
    {
      "cell_type": "markdown",
      "source": [
        "q1. Write a code to create a string with your name and print it."
      ],
      "metadata": {
        "id": "BLcaBC1_nMOp"
      }
    },
    {
      "cell_type": "code",
      "source": [
        "string = \"dheeraj\"\n",
        "print(string)"
      ],
      "metadata": {
        "colab": {
          "base_uri": "https://localhost:8080/"
        },
        "id": "9dTNjfqiniUQ",
        "outputId": "dc949052-82ea-4dd2-a50d-358fa7e79742"
      },
      "execution_count": 1,
      "outputs": [
        {
          "output_type": "stream",
          "name": "stdout",
          "text": [
            "dheeraj\n"
          ]
        }
      ]
    },
    {
      "cell_type": "markdown",
      "source": [
        "q2.  Write a code to find the length of the string \"Hello World\"?\n",
        "ans:"
      ],
      "metadata": {
        "id": "ESrziNlrntFh"
      }
    },
    {
      "cell_type": "code",
      "source": [
        "string = \"Hello World\"\n",
        "print(len(string))"
      ],
      "metadata": {
        "colab": {
          "base_uri": "https://localhost:8080/"
        },
        "id": "rduu_sKen0Xb",
        "outputId": "74f76c74-3f63-47aa-93d7-95f657b5dbd4"
      },
      "execution_count": 2,
      "outputs": [
        {
          "output_type": "stream",
          "name": "stdout",
          "text": [
            "11\n"
          ]
        }
      ]
    },
    {
      "cell_type": "code",
      "source": [],
      "metadata": {
        "id": "m_c5wysCoEZ8"
      },
      "execution_count": null,
      "outputs": []
    },
    {
      "cell_type": "markdown",
      "source": [
        "q3. Write a code to slice the first 3 characters from the string \"Python Programming\".\n"
      ],
      "metadata": {
        "id": "pFEIILCMoKAH"
      }
    },
    {
      "cell_type": "code",
      "source": [
        "string = \"python programming\"\n",
        "print(string[0:3])\n"
      ],
      "metadata": {
        "colab": {
          "base_uri": "https://localhost:8080/"
        },
        "id": "Cq6NKMoEoSnn",
        "outputId": "df7ed9d3-7081-4f55-f4d3-40d9489d553b"
      },
      "execution_count": 5,
      "outputs": [
        {
          "output_type": "stream",
          "name": "stdout",
          "text": [
            "pyt\n"
          ]
        }
      ]
    },
    {
      "cell_type": "code",
      "source": [],
      "metadata": {
        "id": "ZXyXVV2-ogr4"
      },
      "execution_count": null,
      "outputs": []
    },
    {
      "cell_type": "markdown",
      "source": [
        "q4. Write a code to convert the string \"hello\" to uppercase.\n",
        "\n",
        "ans:"
      ],
      "metadata": {
        "id": "kCebOm5go4D6"
      }
    },
    {
      "cell_type": "code",
      "source": [
        "string=\"hello\"\n",
        "print(string.upper())"
      ],
      "metadata": {
        "colab": {
          "base_uri": "https://localhost:8080/"
        },
        "id": "eE4xeDL3o_2j",
        "outputId": "38ec6909-27be-4051-e5da-82625f01df5d"
      },
      "execution_count": 6,
      "outputs": [
        {
          "output_type": "stream",
          "name": "stdout",
          "text": [
            "HELLO\n"
          ]
        }
      ]
    },
    {
      "cell_type": "code",
      "source": [],
      "metadata": {
        "id": "92i8ON06pIj9"
      },
      "execution_count": null,
      "outputs": []
    },
    {
      "cell_type": "markdown",
      "source": [
        "q5. Write a code to replace the word \"apple\" with \"orange\" in the string \"I like apple\".\n",
        "\n",
        "ans:"
      ],
      "metadata": {
        "id": "KQBcv1BWpJh3"
      }
    },
    {
      "cell_type": "code",
      "source": [
        "text = \"i like apple\"\n",
        "text2=text.replace(\"apple\", \"orange\")\n",
        "print(text2)\n"
      ],
      "metadata": {
        "colab": {
          "base_uri": "https://localhost:8080/"
        },
        "id": "AyQr3Y-QpmLM",
        "outputId": "4a4cf4dd-949a-43da-c465-0377274707d2"
      },
      "execution_count": 7,
      "outputs": [
        {
          "output_type": "stream",
          "name": "stdout",
          "text": [
            "i like orange\n"
          ]
        }
      ]
    },
    {
      "cell_type": "code",
      "source": [],
      "metadata": {
        "id": "-dEoTSCqp1UD"
      },
      "execution_count": null,
      "outputs": []
    },
    {
      "cell_type": "markdown",
      "source": [
        "q6. Write a code to create a list with numbers 1 to 5 and print it ?\n",
        "\n",
        "ans:"
      ],
      "metadata": {
        "id": "AzkndL1gp3L-"
      }
    },
    {
      "cell_type": "code",
      "source": [
        "list = [1, 2, 3, 4, 5]\n",
        "print(list)"
      ],
      "metadata": {
        "colab": {
          "base_uri": "https://localhost:8080/"
        },
        "id": "VUdz2hI9p8uX",
        "outputId": "5e88f30b-acc3-44a3-9afb-ad815f9ffdb4"
      },
      "execution_count": 8,
      "outputs": [
        {
          "output_type": "stream",
          "name": "stdout",
          "text": [
            "[1, 2, 3, 4, 5]\n"
          ]
        }
      ]
    },
    {
      "cell_type": "code",
      "source": [],
      "metadata": {
        "id": "uyBugXF9qUVj"
      },
      "execution_count": null,
      "outputs": []
    },
    {
      "cell_type": "markdown",
      "source": [
        "q7. P Write a code to append the number 10 to the list [1, 2, 3, 4].\n",
        "\n",
        "ans:"
      ],
      "metadata": {
        "id": "N6fTGL2MqVrD"
      }
    },
    {
      "cell_type": "code",
      "source": [
        "list = [1, 2, 3, 4]\n",
        "list.append(10)\n",
        "print(list)"
      ],
      "metadata": {
        "colab": {
          "base_uri": "https://localhost:8080/"
        },
        "id": "Kx3Yy2GGrWBK",
        "outputId": "42715532-a6a1-4e3b-a3fc-677c8b4a5f17"
      },
      "execution_count": 9,
      "outputs": [
        {
          "output_type": "stream",
          "name": "stdout",
          "text": [
            "[1, 2, 3, 4, 10]\n"
          ]
        }
      ]
    },
    {
      "cell_type": "code",
      "source": [],
      "metadata": {
        "id": "rSPq40vKrgFG"
      },
      "execution_count": null,
      "outputs": []
    },
    {
      "cell_type": "markdown",
      "source": [
        "q8. Write a code to remove the number 3 from the list [1, 2, 3, 4, 5].\n",
        "\n",
        "ans:"
      ],
      "metadata": {
        "id": "1kU5jWMfrhGP"
      }
    },
    {
      "cell_type": "code",
      "source": [
        "list = [1, 2, 3, 4, 5]\n",
        "list.remove(3)\n",
        "print(list)"
      ],
      "metadata": {
        "colab": {
          "base_uri": "https://localhost:8080/"
        },
        "id": "cys2Veg_rocz",
        "outputId": "bdfec4cd-d5f7-42bd-b5c9-73796e3623e2"
      },
      "execution_count": 10,
      "outputs": [
        {
          "output_type": "stream",
          "name": "stdout",
          "text": [
            "[1, 2, 4, 5]\n"
          ]
        }
      ]
    },
    {
      "cell_type": "code",
      "source": [],
      "metadata": {
        "id": "EPFmuJw4rzS4"
      },
      "execution_count": null,
      "outputs": []
    },
    {
      "cell_type": "markdown",
      "source": [
        "q9. Write a code to access the second element in the list ['a', 'b', 'c', 'd'].\n",
        "\n",
        "ans:"
      ],
      "metadata": {
        "id": "OuMoUsk-r0P1"
      }
    },
    {
      "cell_type": "code",
      "source": [
        "list = ['a', 'b', 'c', 'd']\n",
        "print(list[1])"
      ],
      "metadata": {
        "colab": {
          "base_uri": "https://localhost:8080/"
        },
        "id": "0dF3Gt4Vr9zi",
        "outputId": "bb481da8-41dd-4b85-c970-9d6e47a02558"
      },
      "execution_count": 11,
      "outputs": [
        {
          "output_type": "stream",
          "name": "stdout",
          "text": [
            "b\n"
          ]
        }
      ]
    },
    {
      "cell_type": "code",
      "source": [],
      "metadata": {
        "id": "TVXGfThzsJ0p"
      },
      "execution_count": null,
      "outputs": []
    },
    {
      "cell_type": "markdown",
      "source": [
        "q10. Write a code to reverse the list [10, 20, 30, 40, 50].\n",
        "\n",
        "ans:"
      ],
      "metadata": {
        "id": "XGbV70HDsLxT"
      }
    },
    {
      "cell_type": "code",
      "source": [
        "list = [10, 20, 30, 40, 50]\n",
        "print(list[::-1])"
      ],
      "metadata": {
        "colab": {
          "base_uri": "https://localhost:8080/"
        },
        "id": "2zGpQU5XsRnZ",
        "outputId": "20c15089-41fb-4cd6-c57a-eec47299b382"
      },
      "execution_count": 12,
      "outputs": [
        {
          "output_type": "stream",
          "name": "stdout",
          "text": [
            "[50, 40, 30, 20, 10]\n"
          ]
        }
      ]
    },
    {
      "cell_type": "code",
      "source": [],
      "metadata": {
        "id": "gIeyDTfOsbi7"
      },
      "execution_count": null,
      "outputs": []
    },
    {
      "cell_type": "markdown",
      "source": [
        "q11. Write a code to create a tuple with the elements 100, 200, 300 and print it.\n",
        "\n",
        "ans:"
      ],
      "metadata": {
        "id": "giGYt1mZscpx"
      }
    },
    {
      "cell_type": "code",
      "source": [
        "tuple = (100, 200, 300)\n",
        "print(tuple)"
      ],
      "metadata": {
        "colab": {
          "base_uri": "https://localhost:8080/"
        },
        "id": "OtpzvjVLsi71",
        "outputId": "deb20e30-bd3e-42f3-b0a8-aaff581ea50d"
      },
      "execution_count": 15,
      "outputs": [
        {
          "output_type": "stream",
          "name": "stdout",
          "text": [
            "(100, 200, 300)\n"
          ]
        }
      ]
    },
    {
      "cell_type": "code",
      "source": [],
      "metadata": {
        "id": "g8_SVdlusq7t"
      },
      "execution_count": null,
      "outputs": []
    },
    {
      "cell_type": "markdown",
      "source": [
        "q12.  Write a code to access the second-to-last element of the tuple ('red', 'green', 'blue', 'yellow').\n",
        "\n",
        "ans:"
      ],
      "metadata": {
        "id": "N0Ujuqk8swuI"
      }
    },
    {
      "cell_type": "code",
      "source": [
        "tuple=('red', 'green', 'blue', 'yellow')\n",
        "print(tuple[1:])"
      ],
      "metadata": {
        "colab": {
          "base_uri": "https://localhost:8080/"
        },
        "id": "FCVhHpR4s1LT",
        "outputId": "67a54b36-1378-456e-db86-c69c9c846b4d"
      },
      "execution_count": 16,
      "outputs": [
        {
          "output_type": "stream",
          "name": "stdout",
          "text": [
            "('green', 'blue', 'yellow')\n"
          ]
        }
      ]
    },
    {
      "cell_type": "code",
      "source": [],
      "metadata": {
        "id": "e9goq8EotKRI"
      },
      "execution_count": null,
      "outputs": []
    },
    {
      "cell_type": "markdown",
      "source": [
        "q13.  Write a code to find the minimum number in the tuple (10, 20, 5, 15).\n",
        "\n",
        "ans:"
      ],
      "metadata": {
        "id": "ZsqCfnlotOeT"
      }
    },
    {
      "cell_type": "code",
      "source": [
        "tuple = (10, 20, 5, 15)\n",
        "print(min(tuple))"
      ],
      "metadata": {
        "colab": {
          "base_uri": "https://localhost:8080/"
        },
        "id": "RY5LEgTTtTsK",
        "outputId": "fb82274c-008b-453f-e08c-ed2b06be1fb7"
      },
      "execution_count": 18,
      "outputs": [
        {
          "output_type": "stream",
          "name": "stdout",
          "text": [
            "5\n"
          ]
        }
      ]
    },
    {
      "cell_type": "code",
      "source": [],
      "metadata": {
        "id": "0j9ziRqFtxVF"
      },
      "execution_count": null,
      "outputs": []
    },
    {
      "cell_type": "markdown",
      "source": [
        "q14.  Write a code to find the index of the element \"cat\" in the tuple ('dog', 'cat', 'rabbit').\n",
        "\n",
        "ans:"
      ],
      "metadata": {
        "id": "Pya2qTfzt5Bj"
      }
    },
    {
      "cell_type": "code",
      "source": [
        "tuple=('dog', 'cat', 'rabbit')\n",
        "print(tuple.index('cat'))"
      ],
      "metadata": {
        "colab": {
          "base_uri": "https://localhost:8080/"
        },
        "id": "j9zDz3p1uBNx",
        "outputId": "4c4cc907-37e0-45af-fa24-a8a929d8c660"
      },
      "execution_count": 19,
      "outputs": [
        {
          "output_type": "stream",
          "name": "stdout",
          "text": [
            "1\n"
          ]
        }
      ]
    },
    {
      "cell_type": "code",
      "source": [],
      "metadata": {
        "id": "LapSTKdqu0Vs"
      },
      "execution_count": null,
      "outputs": []
    },
    {
      "cell_type": "markdown",
      "source": [
        "q15.  Write a code to create a tuple containing three different fruits and check if \"kiwi\" is in it.\n",
        "\n",
        "ans:"
      ],
      "metadata": {
        "id": "3K-6YDSyu1bP"
      }
    },
    {
      "cell_type": "code",
      "source": [
        "tuple=('apple', 'banana', 'kiwi')\n",
        "print('kiwi' in tuple)"
      ],
      "metadata": {
        "colab": {
          "base_uri": "https://localhost:8080/"
        },
        "id": "EWar2kQpvDPe",
        "outputId": "47888615-5333-4b5a-ac75-6fa95a513969"
      },
      "execution_count": 20,
      "outputs": [
        {
          "output_type": "stream",
          "name": "stdout",
          "text": [
            "True\n"
          ]
        }
      ]
    },
    {
      "cell_type": "code",
      "source": [],
      "metadata": {
        "id": "LLEd46yIvPLW"
      },
      "execution_count": null,
      "outputs": []
    },
    {
      "cell_type": "markdown",
      "source": [
        "q16.  Write a code to create a set with the elements 'a', 'b', 'c' and print it.\n",
        "\n",
        "ans:"
      ],
      "metadata": {
        "id": "Mw9KbxFcvP9f"
      }
    },
    {
      "cell_type": "code",
      "source": [
        "set = {'a', 'b', 'c'}\n",
        "print(set)"
      ],
      "metadata": {
        "colab": {
          "base_uri": "https://localhost:8080/"
        },
        "id": "lcJv6soFvT9B",
        "outputId": "8ca9acac-97a2-4862-d0a7-fc7eb7b891ba"
      },
      "execution_count": 21,
      "outputs": [
        {
          "output_type": "stream",
          "name": "stdout",
          "text": [
            "{'b', 'a', 'c'}\n"
          ]
        }
      ]
    },
    {
      "cell_type": "code",
      "source": [],
      "metadata": {
        "id": "-ATZtatrvimN"
      },
      "execution_count": null,
      "outputs": []
    },
    {
      "cell_type": "markdown",
      "source": [
        "q17.  Write a code to clear all elements from the set {1, 2, 3, 4, 5}.\n",
        "\n",
        "ans:"
      ],
      "metadata": {
        "id": "87H1XafBvkPb"
      }
    },
    {
      "cell_type": "code",
      "source": [
        "set={1, 2, 3, 4, 5}\n",
        "set.clear()\n",
        "print(set)"
      ],
      "metadata": {
        "colab": {
          "base_uri": "https://localhost:8080/"
        },
        "id": "ggChAO8hvpQC",
        "outputId": "30263775-4a0e-4af5-c20b-3003276e0d9e"
      },
      "execution_count": 22,
      "outputs": [
        {
          "output_type": "stream",
          "name": "stdout",
          "text": [
            "set()\n"
          ]
        }
      ]
    },
    {
      "cell_type": "code",
      "source": [],
      "metadata": {
        "id": "ZV_ZIMmivyqq"
      },
      "execution_count": null,
      "outputs": []
    },
    {
      "cell_type": "markdown",
      "source": [
        "q18.  Write a code to remove the element 4 from the set {1, 2, 3, 4}.\n",
        "\n",
        "ans:"
      ],
      "metadata": {
        "id": "onBT9XyAv0ks"
      }
    },
    {
      "cell_type": "markdown",
      "source": [],
      "metadata": {
        "id": "ZEPFWa_ov5Os"
      }
    },
    {
      "cell_type": "code",
      "source": [
        "set={1, 2, 3, 4}\n",
        "set.remove(4)\n",
        "print(set)"
      ],
      "metadata": {
        "colab": {
          "base_uri": "https://localhost:8080/"
        },
        "id": "cg5ESoXVv-cw",
        "outputId": "54f69e26-f702-4dae-9d8e-a22adfd01a1b"
      },
      "execution_count": 23,
      "outputs": [
        {
          "output_type": "stream",
          "name": "stdout",
          "text": [
            "{1, 2, 3}\n"
          ]
        }
      ]
    },
    {
      "cell_type": "code",
      "source": [],
      "metadata": {
        "id": "wUqJztbWwDEm"
      },
      "execution_count": null,
      "outputs": []
    },
    {
      "cell_type": "markdown",
      "source": [
        "q19.  Write a code to find the union of two sets {1, 2, 3} and {3, 4, 5}.\n",
        "\n",
        "ans:"
      ],
      "metadata": {
        "id": "NIh6oOqXwEUx"
      }
    },
    {
      "cell_type": "code",
      "source": [
        "set1 ={1, 2, 3}\n",
        "set2 = {3, 4, 5}\n",
        "print(set1 | set2)"
      ],
      "metadata": {
        "colab": {
          "base_uri": "https://localhost:8080/"
        },
        "id": "q96k3nSGwVKg",
        "outputId": "18c1cda1-7827-4d08-c581-121fabdc849e"
      },
      "execution_count": 24,
      "outputs": [
        {
          "output_type": "stream",
          "name": "stdout",
          "text": [
            "{1, 2, 3, 4, 5}\n"
          ]
        }
      ]
    },
    {
      "cell_type": "code",
      "source": [],
      "metadata": {
        "id": "nWm50Id7wgSN"
      },
      "execution_count": null,
      "outputs": []
    },
    {
      "cell_type": "markdown",
      "source": [
        "q20. Write a code to find the intersection of two sets {1, 2, 3} and {2, 3, 4}.\n",
        "\n",
        "ans:"
      ],
      "metadata": {
        "id": "2TyKxKLYwhus"
      }
    },
    {
      "cell_type": "code",
      "source": [
        "set1 ={1, 2, 3}\n",
        "set2 ={2,3,4}\n",
        "print(set1 & set2)"
      ],
      "metadata": {
        "colab": {
          "base_uri": "https://localhost:8080/"
        },
        "id": "oVQ_zXopw2Fb",
        "outputId": "928441d0-41b0-46aa-df5a-12709da9cf8e"
      },
      "execution_count": 25,
      "outputs": [
        {
          "output_type": "stream",
          "name": "stdout",
          "text": [
            "{2, 3}\n"
          ]
        }
      ]
    },
    {
      "cell_type": "code",
      "source": [],
      "metadata": {
        "id": "ILDH4s4xw_01"
      },
      "execution_count": null,
      "outputs": []
    },
    {
      "cell_type": "markdown",
      "source": [
        "q21.  Write a code to create a dictionary with the keys \"name\", \"age\", and \"city\", and print it.\n",
        "\n",
        "ans:"
      ],
      "metadata": {
        "id": "Q2TMlVtcxBZI"
      }
    },
    {
      "cell_type": "code",
      "source": [
        "dict = {\"name\": \"dheeraj\", \"age\": 22, \"city\": \"udaipur\"}\n",
        "print(dict)"
      ],
      "metadata": {
        "colab": {
          "base_uri": "https://localhost:8080/"
        },
        "id": "n1cGvgbJxF8b",
        "outputId": "e638cf49-117b-4156-9e34-9abc20e55822"
      },
      "execution_count": 27,
      "outputs": [
        {
          "output_type": "stream",
          "name": "stdout",
          "text": [
            "{'name': 'dheeraj', 'age': 22, 'city': 'udaipur'}\n"
          ]
        }
      ]
    },
    {
      "cell_type": "code",
      "source": [],
      "metadata": {
        "id": "R1648MK_xvSp"
      },
      "execution_count": null,
      "outputs": []
    },
    {
      "cell_type": "markdown",
      "source": [
        "q22. Write a code to add a new key-value pair \"country\": \"USA\" to the dictionary {'name': 'John', 'age': 25}.\n",
        "\n",
        "ans:"
      ],
      "metadata": {
        "id": "dXdaohA2xyXS"
      }
    },
    {
      "cell_type": "code",
      "source": [
        "dict={'name': 'John', 'age': 25}\n",
        "dict['country']=\"USA\"\n",
        "print(dict)"
      ],
      "metadata": {
        "colab": {
          "base_uri": "https://localhost:8080/"
        },
        "id": "LyWU5Nu_x5Po",
        "outputId": "a06c0d1e-629e-4f8c-fdf6-91ed21466e13"
      },
      "execution_count": 28,
      "outputs": [
        {
          "output_type": "stream",
          "name": "stdout",
          "text": [
            "{'name': 'John', 'age': 25, 'country': 'USA'}\n"
          ]
        }
      ]
    },
    {
      "cell_type": "code",
      "source": [],
      "metadata": {
        "id": "UJtya3GfyDIb"
      },
      "execution_count": null,
      "outputs": []
    },
    {
      "cell_type": "markdown",
      "source": [
        "q23.  Write a code to access the value associated with the key \"name\" in the dictionary {'name': 'Alice', 'age': 30}.\n",
        "\n",
        "ans:"
      ],
      "metadata": {
        "id": "G2dI2h_xyJcB"
      }
    },
    {
      "cell_type": "code",
      "source": [
        "dict={'name': 'alice', 'age':30}\n",
        "print(dict['name'])"
      ],
      "metadata": {
        "colab": {
          "base_uri": "https://localhost:8080/"
        },
        "id": "cJzJGzu1yO5D",
        "outputId": "9c19f9e2-9e25-479a-ab16-1e09a215e2ef"
      },
      "execution_count": 29,
      "outputs": [
        {
          "output_type": "stream",
          "name": "stdout",
          "text": [
            "alice\n"
          ]
        }
      ]
    },
    {
      "cell_type": "code",
      "source": [],
      "metadata": {
        "id": "LXvr8j14yZgE"
      },
      "execution_count": null,
      "outputs": []
    },
    {
      "cell_type": "markdown",
      "source": [
        "q24. Write a code to remove the key \"age\" from the dictionary {'name': 'Bob', 'age': 22, 'city': 'New York'}.\n",
        "\n",
        "ans:"
      ],
      "metadata": {
        "id": "bS_afARVya5i"
      }
    },
    {
      "cell_type": "code",
      "source": [
        "dict={'name':'bob', 'age':22, 'city':'new york'}\n",
        "dict.pop('age')\n",
        "print(dict)"
      ],
      "metadata": {
        "colab": {
          "base_uri": "https://localhost:8080/"
        },
        "id": "M5hA-yhdyhBC",
        "outputId": "19be8e3b-266f-4aa5-c6d3-0d1546fd0225"
      },
      "execution_count": 30,
      "outputs": [
        {
          "output_type": "stream",
          "name": "stdout",
          "text": [
            "{'name': 'bob', 'city': 'new york'}\n"
          ]
        }
      ]
    },
    {
      "cell_type": "code",
      "source": [],
      "metadata": {
        "id": "_o-8mw_YypV4"
      },
      "execution_count": null,
      "outputs": []
    },
    {
      "cell_type": "markdown",
      "source": [
        "q25.  Write a code to check if the key \"city\" exists in the dictionary {'name': 'Alice', 'city': 'Paris'}.\n",
        "\n",
        "ans:"
      ],
      "metadata": {
        "id": "JWVC3JEUysN7"
      }
    },
    {
      "cell_type": "code",
      "source": [
        "dict = {'name': 'alice', 'city':'paris'}\n",
        "print('city' in dict)"
      ],
      "metadata": {
        "colab": {
          "base_uri": "https://localhost:8080/"
        },
        "id": "jGzk0DutyxuQ",
        "outputId": "9bba64db-05bf-4809-d413-eec2d39a3fb3"
      },
      "execution_count": 31,
      "outputs": [
        {
          "output_type": "stream",
          "name": "stdout",
          "text": [
            "True\n"
          ]
        }
      ]
    },
    {
      "cell_type": "code",
      "source": [],
      "metadata": {
        "id": "NncQtVzpy_mg"
      },
      "execution_count": null,
      "outputs": []
    },
    {
      "cell_type": "markdown",
      "source": [
        "q26. Write a code to create a list, a tuple, and a dictionary, and print them all.\n",
        "\n",
        "ans:"
      ],
      "metadata": {
        "id": "9FcELpHFzHJj"
      }
    },
    {
      "cell_type": "code",
      "source": [
        "list=[1, 2, 3]\n",
        "tuple=(4, 5,6)\n",
        "dict={'item':\"pen\", 'price': 20, \"brand\": 'cello'}\n",
        "print(list)\n",
        "print(tuple)\n",
        "print(dict)"
      ],
      "metadata": {
        "colab": {
          "base_uri": "https://localhost:8080/"
        },
        "id": "OVuVCjf4zNyT",
        "outputId": "61284d9a-0965-4a48-8bde-bf4af362d1b7"
      },
      "execution_count": 32,
      "outputs": [
        {
          "output_type": "stream",
          "name": "stdout",
          "text": [
            "[1, 2, 3]\n",
            "(4, 5, 6)\n",
            "{'item': 'pen', 'price': 20, 'brand': 'cello'}\n"
          ]
        }
      ]
    },
    {
      "cell_type": "code",
      "source": [],
      "metadata": {
        "id": "Ib0np8PEzt4Y"
      },
      "execution_count": null,
      "outputs": []
    },
    {
      "cell_type": "markdown",
      "source": [
        "q27. Write a code to create a list of 5 random numbers between 1 and 100, sort it in ascending order, and print the\n",
        "result.(replaced)\n",
        "\n",
        "ans:"
      ],
      "metadata": {
        "id": "6c88OVi7z3Ur"
      }
    },
    {
      "cell_type": "code",
      "source": [
        "list=[10, 5, 22, 30]\n",
        "list.sort()\n",
        "print(list)"
      ],
      "metadata": {
        "colab": {
          "base_uri": "https://localhost:8080/"
        },
        "id": "4IfUT0oiz9zF",
        "outputId": "73cd2a24-655e-4430-9919-ca4947280d8d"
      },
      "execution_count": 33,
      "outputs": [
        {
          "output_type": "stream",
          "name": "stdout",
          "text": [
            "[5, 10, 22, 30]\n"
          ]
        }
      ]
    },
    {
      "cell_type": "code",
      "source": [],
      "metadata": {
        "id": "gHAbIbU20PFZ"
      },
      "execution_count": null,
      "outputs": []
    },
    {
      "cell_type": "markdown",
      "source": [
        "q28.  Write a code to create a list with strings and print the element at the third index.\n",
        "\n",
        "ans:"
      ],
      "metadata": {
        "id": "ji-ZENhT0QUm"
      }
    },
    {
      "cell_type": "code",
      "source": [
        "list =['dheeraj', 'pwskills', 'devops', 'course']\n",
        "print(list[2])"
      ],
      "metadata": {
        "colab": {
          "base_uri": "https://localhost:8080/"
        },
        "id": "L0foiA9z0T89",
        "outputId": "a49ed0e3-942a-4700-bc06-57a0202d289c"
      },
      "execution_count": 34,
      "outputs": [
        {
          "output_type": "stream",
          "name": "stdout",
          "text": [
            "devops\n"
          ]
        }
      ]
    },
    {
      "cell_type": "markdown",
      "source": [],
      "metadata": {
        "id": "QjNhtSU51KUQ"
      }
    },
    {
      "cell_type": "code",
      "source": [],
      "metadata": {
        "id": "7uCY7v3100Nd"
      },
      "execution_count": null,
      "outputs": []
    },
    {
      "cell_type": "markdown",
      "source": [
        "q29.  Write a code to combine two dictionaries into one and print the result.\n",
        "\n",
        "ans:"
      ],
      "metadata": {
        "id": "ec5zWaHj01g6"
      }
    },
    {
      "cell_type": "code",
      "source": [
        "dict ={\"name\": 'dheeraj', 'age':20}\n",
        "dict2 = {'city':'udaipur', 'state':'rajasthan'}\n",
        "dict.update(dict2)\n",
        "print(dict)"
      ],
      "metadata": {
        "colab": {
          "base_uri": "https://localhost:8080/"
        },
        "id": "WsaWB8Wl06I6",
        "outputId": "395fc2d8-bb5f-403d-94e8-a19575a07083"
      },
      "execution_count": 35,
      "outputs": [
        {
          "output_type": "stream",
          "name": "stdout",
          "text": [
            "{'name': 'dheeraj', 'age': 20, 'city': 'udaipur', 'state': 'rajasthan'}\n"
          ]
        }
      ]
    },
    {
      "cell_type": "code",
      "source": [],
      "metadata": {
        "id": "u6mSp4tH1GSL"
      },
      "execution_count": null,
      "outputs": []
    },
    {
      "cell_type": "markdown",
      "source": [
        "q30.  Write a code to convert a list of strings into a set.\n",
        "\n",
        "ans:\n",
        "\n",
        "```\n",
        "\n",
        "```\n",
        "\n"
      ],
      "metadata": {
        "id": "pXLl_eSP1Mlt"
      }
    },
    {
      "cell_type": "code",
      "source": [
        "lt =['dheeraj', 'pwskill', 'devops']\n",
        "new = set(lt)\n",
        "print(new)"
      ],
      "metadata": {
        "colab": {
          "base_uri": "https://localhost:8080/",
          "height": 176
        },
        "id": "wjgBKaZJ3QMK",
        "outputId": "632f4737-a24c-40e8-8d98-2d7df8e0ec57"
      },
      "execution_count": 46,
      "outputs": [
        {
          "output_type": "error",
          "ename": "TypeError",
          "evalue": "'list' object is not callable",
          "traceback": [
            "\u001b[0;31m---------------------------------------------------------------------------\u001b[0m",
            "\u001b[0;31mTypeError\u001b[0m                                 Traceback (most recent call last)",
            "\u001b[0;32m/tmp/ipython-input-46-3372883854.py\u001b[0m in \u001b[0;36m<cell line: 0>\u001b[0;34m()\u001b[0m\n\u001b[1;32m      1\u001b[0m \u001b[0mlt\u001b[0m \u001b[0;34m=\u001b[0m\u001b[0;34m[\u001b[0m\u001b[0;34m'dheeraj'\u001b[0m\u001b[0;34m,\u001b[0m \u001b[0;34m'pwskill'\u001b[0m\u001b[0;34m,\u001b[0m \u001b[0;34m'devops'\u001b[0m\u001b[0;34m]\u001b[0m\u001b[0;34m\u001b[0m\u001b[0;34m\u001b[0m\u001b[0m\n\u001b[0;32m----> 2\u001b[0;31m \u001b[0mnew\u001b[0m \u001b[0;34m=\u001b[0m \u001b[0mset\u001b[0m\u001b[0;34m(\u001b[0m\u001b[0mlt\u001b[0m\u001b[0;34m)\u001b[0m\u001b[0;34m\u001b[0m\u001b[0;34m\u001b[0m\u001b[0m\n\u001b[0m\u001b[1;32m      3\u001b[0m \u001b[0mprint\u001b[0m\u001b[0;34m(\u001b[0m\u001b[0mnew\u001b[0m\u001b[0;34m)\u001b[0m\u001b[0;34m\u001b[0m\u001b[0;34m\u001b[0m\u001b[0m\n",
            "\u001b[0;31mTypeError\u001b[0m: 'list' object is not callable"
          ]
        }
      ]
    },
    {
      "cell_type": "code",
      "source": [],
      "metadata": {
        "id": "QVZ6Rbdn1jaU"
      },
      "execution_count": null,
      "outputs": []
    }
  ]
}